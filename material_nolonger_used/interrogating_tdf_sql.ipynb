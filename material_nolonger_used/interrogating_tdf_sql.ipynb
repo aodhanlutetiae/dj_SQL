{
 "cells": [
  {
   "cell_type": "code",
   "execution_count": 57,
   "metadata": {},
   "outputs": [],
   "source": [
    "import sqlite3 as sql\n",
    "import pandas as pd\n"
   ]
  },
  {
   "cell_type": "code",
   "execution_count": 58,
   "metadata": {},
   "outputs": [],
   "source": [
    "# connect to the database (local) \n",
    "con = sql.connect('letour.db')"
   ]
  },
  {
   "cell_type": "markdown",
   "metadata": {},
   "source": [
    "## querying and viewing as df"
   ]
  },
  {
   "cell_type": "code",
   "execution_count": 95,
   "metadata": {},
   "outputs": [
    {
     "data": {
      "text/html": [
       "<div>\n",
       "<style scoped>\n",
       "    .dataframe tbody tr th:only-of-type {\n",
       "        vertical-align: middle;\n",
       "    }\n",
       "\n",
       "    .dataframe tbody tr th {\n",
       "        vertical-align: top;\n",
       "    }\n",
       "\n",
       "    .dataframe thead th {\n",
       "        text-align: right;\n",
       "    }\n",
       "</style>\n",
       "<table border=\"1\" class=\"dataframe\">\n",
       "  <thead>\n",
       "    <tr style=\"text-align: right;\">\n",
       "      <th></th>\n",
       "      <th>start_city</th>\n",
       "      <th>COUNT(*)</th>\n",
       "    </tr>\n",
       "  </thead>\n",
       "  <tbody>\n",
       "    <tr>\n",
       "      <th>0</th>\n",
       "      <td>Paris</td>\n",
       "      <td>38</td>\n",
       "    </tr>\n",
       "    <tr>\n",
       "      <th>1</th>\n",
       "      <td>Brest</td>\n",
       "      <td>3</td>\n",
       "    </tr>\n",
       "    <tr>\n",
       "      <th>2</th>\n",
       "      <td>Strasbourg</td>\n",
       "      <td>2</td>\n",
       "    </tr>\n",
       "    <tr>\n",
       "      <th>3</th>\n",
       "      <td>Rouen</td>\n",
       "      <td>2</td>\n",
       "    </tr>\n",
       "    <tr>\n",
       "      <th>4</th>\n",
       "      <td>Nancy</td>\n",
       "      <td>2</td>\n",
       "    </tr>\n",
       "    <tr>\n",
       "      <th>5</th>\n",
       "      <td>Mulhouse</td>\n",
       "      <td>2</td>\n",
       "    </tr>\n",
       "    <tr>\n",
       "      <th>6</th>\n",
       "      <td>Luxembourg</td>\n",
       "      <td>2</td>\n",
       "    </tr>\n",
       "    <tr>\n",
       "      <th>7</th>\n",
       "      <td>Liège</td>\n",
       "      <td>2</td>\n",
       "    </tr>\n",
       "    <tr>\n",
       "      <th>8</th>\n",
       "      <td>Lille</td>\n",
       "      <td>2</td>\n",
       "    </tr>\n",
       "    <tr>\n",
       "      <th>9</th>\n",
       "      <td>Le Puy de Fou</td>\n",
       "      <td>2</td>\n",
       "    </tr>\n",
       "    <tr>\n",
       "      <th>10</th>\n",
       "      <td>Futuroscope</td>\n",
       "      <td>2</td>\n",
       "    </tr>\n",
       "    <tr>\n",
       "      <th>11</th>\n",
       "      <td>Fleurence</td>\n",
       "      <td>2</td>\n",
       "    </tr>\n",
       "    <tr>\n",
       "      <th>12</th>\n",
       "      <td>Angers</td>\n",
       "      <td>2</td>\n",
       "    </tr>\n",
       "    <tr>\n",
       "      <th>13</th>\n",
       "      <td>West Berlin</td>\n",
       "      <td>1</td>\n",
       "    </tr>\n",
       "    <tr>\n",
       "      <th>14</th>\n",
       "      <td>Vittel</td>\n",
       "      <td>1</td>\n",
       "    </tr>\n",
       "  </tbody>\n",
       "</table>\n",
       "</div>"
      ],
      "text/plain": [
       "       start_city  COUNT(*)\n",
       "0           Paris        38\n",
       "1           Brest         3\n",
       "2      Strasbourg         2\n",
       "3           Rouen         2\n",
       "4           Nancy         2\n",
       "5        Mulhouse         2\n",
       "6      Luxembourg         2\n",
       "7           Liège         2\n",
       "8           Lille         2\n",
       "9   Le Puy de Fou         2\n",
       "10    Futuroscope         2\n",
       "11      Fleurence         2\n",
       "12         Angers         2\n",
       "13    West Berlin         1\n",
       "14         Vittel         1"
      ]
     },
     "execution_count": 95,
     "metadata": {},
     "output_type": "execute_result"
    }
   ],
   "source": [
    "# separate the SQL query from the python-pandas syntax\n",
    "\n",
    "my_query = \"\"\"\n",
    "SELECT start_city, COUNT(*) \n",
    "FROM race \n",
    "GROUP BY start_city \n",
    "ORDER BY COUNT(*) DESC\n",
    "LIMIT 15;\n",
    "\"\"\"\n",
    "\n",
    "# build a pandas df with two arguments - the query and the connection to the db\n",
    "df = pd.read_sql_query(my_query, con)\n",
    "\n",
    "# view response\n",
    "df"
   ]
  },
  {
   "cell_type": "markdown",
   "metadata": {},
   "source": [
    "## Interview the data !\n",
    "\n",
    "## Only query using the SQL query, not pandas (Units are KM and KM/hr)\n",
    "\n",
    "> How many Tours are listed? \n",
    "\n",
    "> What's the most recent year listed? (and so how many years haven't had Tours?)\n",
    "\n",
    "> Display 'year', 'length' and 'stages' cos only, and just the first 10 rows\n",
    "\n",
    "> How many cities have been a start city?\n",
    "\n",
    "> How many races had 23 stages?\n",
    "\n",
    "> Find all races with 28 finishers or fewer\n",
    "\n",
    "> Display all races that either had fewer than 80 riders or fewer than 30 finishers\n",
    "\n",
    "> What is the average number of stages? \n",
    "\n",
    "> What is the average number of riders? and of finishers?\n",
    "\n",
    "> Which was the longest Tour in length (km)?\n",
    "\n",
    "> How many starts in Paris since 2000?\n",
    "\n",
    "> How many non-Paris starts since 2000 with more than 160 finishers?\n",
    "\n",
    "> Find all start cities that aren't Paris or Lyon\n",
    "\n",
    "> What was the 7th longest race?\n",
    "\n",
    "> How many finishing riders have there been ever?\n",
    "\n",
    "> Which two start cities contain the string 'uss'?\n",
    "\n",
    "> Find all races with the number of stages as either 21, 22, 23 or 24\n",
    "\n",
    "> Which years had between 52 and 60 finishers?\n",
    "\n",
    "> What 13 cities have had more than one start?\n",
    "\n",
    "> What is the winner's average speed since 1903?\n",
    "\n"
   ]
  },
  {
   "cell_type": "code",
   "execution_count": 47,
   "metadata": {},
   "outputs": [],
   "source": [
    "# close the connection\n",
    "\n",
    "con.close()"
   ]
  },
  {
   "cell_type": "code",
   "execution_count": null,
   "metadata": {},
   "outputs": [],
   "source": []
  },
  {
   "cell_type": "markdown",
   "metadata": {},
   "source": [
    "## NOTE: It's also possible to run queries in the notebook without a pandas df"
   ]
  },
  {
   "cell_type": "code",
   "execution_count": 49,
   "metadata": {},
   "outputs": [],
   "source": [
    "# connect to the database (local) and create a cursor\n",
    "\n",
    "con = sql.connect('letour.db')\n",
    "cur = con.cursor()"
   ]
  },
  {
   "cell_type": "code",
   "execution_count": 50,
   "metadata": {},
   "outputs": [
    {
     "data": {
      "text/plain": [
       "('race',)"
      ]
     },
     "execution_count": 50,
     "metadata": {},
     "output_type": "execute_result"
    }
   ],
   "source": [
    "# check what tables are in this db\n",
    "\n",
    "cur.execute('SELECT name FROM sqlite_master WHERE type = \"table\";')\n",
    "cur.fetchall()[0]"
   ]
  },
  {
   "cell_type": "code",
   "execution_count": null,
   "metadata": {},
   "outputs": [],
   "source": []
  },
  {
   "cell_type": "markdown",
   "metadata": {},
   "source": [
    "## NOTE: Build a database (even just one table) from CSVs"
   ]
  },
  {
   "cell_type": "code",
   "execution_count": null,
   "metadata": {},
   "outputs": [],
   "source": [
    "# taking a csv you have in the same directory\n",
    "\n",
    "file = 'tdf_data.csv'\n",
    "df = pd.read_csv(file)\n",
    "df[:4]"
   ]
  },
  {
   "cell_type": "code",
   "execution_count": null,
   "metadata": {},
   "outputs": [],
   "source": [
    "# fix datatype on Length before creating a db\n",
    "\n",
    "df.Length = df.Length.str.replace(',', '')\n",
    "df.Length = df.Length.astype(int)"
   ]
  },
  {
   "cell_type": "code",
   "execution_count": null,
   "metadata": {},
   "outputs": [],
   "source": [
    "# fix col names\n",
    "\n",
    "df.columns = ['year', 'length', 'stages', 'winner_avrspeed', 'riders', 'finishers', 'start_city']"
   ]
  },
  {
   "cell_type": "code",
   "execution_count": null,
   "metadata": {},
   "outputs": [],
   "source": [
    "# there is no database for this table, so we create a new database\n",
    "\n",
    "con = sql.connect('letour.db')\n",
    "\n",
    "# we add our table to this new, empty database, but using A DIFFERENT NAME\n",
    "\n",
    "df.to_sql('race', con, index = False)"
   ]
  },
  {
   "cell_type": "code",
   "execution_count": null,
   "metadata": {},
   "outputs": [],
   "source": []
  }
 ],
 "metadata": {
  "kernelspec": {
   "display_name": "Python 3",
   "language": "python",
   "name": "python3"
  },
  "language_info": {
   "codemirror_mode": {
    "name": "ipython",
    "version": 3
   },
   "file_extension": ".py",
   "mimetype": "text/x-python",
   "name": "python",
   "nbconvert_exporter": "python",
   "pygments_lexer": "ipython3",
   "version": "3.7.9"
  }
 },
 "nbformat": 4,
 "nbformat_minor": 2
}
