{
 "cells": [
  {
   "cell_type": "code",
   "execution_count": 6,
   "metadata": {},
   "outputs": [],
   "source": [
    "import sqlite3 as sql\n",
    "import pandas as pd\n"
   ]
  },
  {
   "cell_type": "code",
   "execution_count": 7,
   "metadata": {},
   "outputs": [],
   "source": [
    "# connect to the database (local) and create a cursor\n",
    "\n",
    "con = sql.connect('letour.db')\n",
    "cur = con.cursor()"
   ]
  },
  {
   "cell_type": "code",
   "execution_count": 8,
   "metadata": {},
   "outputs": [
    {
     "data": {
      "text/plain": [
       "('race',)"
      ]
     },
     "execution_count": 8,
     "metadata": {},
     "output_type": "execute_result"
    }
   ],
   "source": [
    "# check what tables are in this db\n",
    "\n",
    "cur.execute('SELECT name FROM sqlite_master WHERE type = \"table\";')\n",
    "cur.fetchall()[0]"
   ]
  },
  {
   "cell_type": "code",
   "execution_count": null,
   "metadata": {},
   "outputs": [],
   "source": []
  },
  {
   "cell_type": "markdown",
   "metadata": {},
   "source": [
    "## querying and viewing as df"
   ]
  },
  {
   "cell_type": "code",
   "execution_count": 10,
   "metadata": {},
   "outputs": [
    {
     "data": {
      "text/html": [
       "<div>\n",
       "<style scoped>\n",
       "    .dataframe tbody tr th:only-of-type {\n",
       "        vertical-align: middle;\n",
       "    }\n",
       "\n",
       "    .dataframe tbody tr th {\n",
       "        vertical-align: top;\n",
       "    }\n",
       "\n",
       "    .dataframe thead th {\n",
       "        text-align: right;\n",
       "    }\n",
       "</style>\n",
       "<table border=\"1\" class=\"dataframe\">\n",
       "  <thead>\n",
       "    <tr style=\"text-align: right;\">\n",
       "      <th></th>\n",
       "      <th>year</th>\n",
       "      <th>length</th>\n",
       "      <th>stages</th>\n",
       "      <th>winner_avrspeed</th>\n",
       "      <th>riders</th>\n",
       "      <th>finishers</th>\n",
       "      <th>start_city</th>\n",
       "    </tr>\n",
       "  </thead>\n",
       "  <tbody>\n",
       "    <tr>\n",
       "      <th>0</th>\n",
       "      <td>1903</td>\n",
       "      <td>2428</td>\n",
       "      <td>6</td>\n",
       "      <td>25.679</td>\n",
       "      <td>60</td>\n",
       "      <td>21</td>\n",
       "      <td>Paris</td>\n",
       "    </tr>\n",
       "    <tr>\n",
       "      <th>1</th>\n",
       "      <td>1904</td>\n",
       "      <td>2420</td>\n",
       "      <td>6</td>\n",
       "      <td>25.265</td>\n",
       "      <td>88</td>\n",
       "      <td>27</td>\n",
       "      <td>Paris</td>\n",
       "    </tr>\n",
       "    <tr>\n",
       "      <th>2</th>\n",
       "      <td>1905</td>\n",
       "      <td>2994</td>\n",
       "      <td>11</td>\n",
       "      <td>27.107</td>\n",
       "      <td>60</td>\n",
       "      <td>24</td>\n",
       "      <td>Paris</td>\n",
       "    </tr>\n",
       "    <tr>\n",
       "      <th>3</th>\n",
       "      <td>1906</td>\n",
       "      <td>4545</td>\n",
       "      <td>13</td>\n",
       "      <td>24.463</td>\n",
       "      <td>82</td>\n",
       "      <td>14</td>\n",
       "      <td>Paris</td>\n",
       "    </tr>\n",
       "    <tr>\n",
       "      <th>4</th>\n",
       "      <td>1907</td>\n",
       "      <td>4488</td>\n",
       "      <td>14</td>\n",
       "      <td>28.470</td>\n",
       "      <td>93</td>\n",
       "      <td>33</td>\n",
       "      <td>Paris</td>\n",
       "    </tr>\n",
       "  </tbody>\n",
       "</table>\n",
       "</div>"
      ],
      "text/plain": [
       "   year  length  stages  winner_avrspeed  riders  finishers start_city\n",
       "0  1903    2428       6           25.679      60         21      Paris\n",
       "1  1904    2420       6           25.265      88         27      Paris\n",
       "2  1905    2994      11           27.107      60         24      Paris\n",
       "3  1906    4545      13           24.463      82         14      Paris\n",
       "4  1907    4488      14           28.470      93         33      Paris"
      ]
     },
     "execution_count": 10,
     "metadata": {},
     "output_type": "execute_result"
    }
   ],
   "source": [
    "# separate the SQL query from the python-pandas syntax\n",
    "\n",
    "my_query = \"\"\"\n",
    "SELECT *\n",
    "FROM race\n",
    "LIMIT 5;\n",
    "\"\"\"\n",
    "\n",
    "# build a pandas df with two arguments - the query and the connection to the db\n",
    "df = pd.read_sql_query(my_query, con)\n",
    "\n",
    "# view response\n",
    "df"
   ]
  },
  {
   "cell_type": "code",
   "execution_count": 46,
   "metadata": {},
   "outputs": [
    {
     "data": {
      "text/html": [
       "<div>\n",
       "<style scoped>\n",
       "    .dataframe tbody tr th:only-of-type {\n",
       "        vertical-align: middle;\n",
       "    }\n",
       "\n",
       "    .dataframe tbody tr th {\n",
       "        vertical-align: top;\n",
       "    }\n",
       "\n",
       "    .dataframe thead th {\n",
       "        text-align: right;\n",
       "    }\n",
       "</style>\n",
       "<table border=\"1\" class=\"dataframe\">\n",
       "  <thead>\n",
       "    <tr style=\"text-align: right;\">\n",
       "      <th></th>\n",
       "      <th>AVG(winner_avrspeed)</th>\n",
       "    </tr>\n",
       "  </thead>\n",
       "  <tbody>\n",
       "    <tr>\n",
       "      <th>0</th>\n",
       "      <td>34.180895</td>\n",
       "    </tr>\n",
       "  </tbody>\n",
       "</table>\n",
       "</div>"
      ],
      "text/plain": [
       "   AVG(winner_avrspeed)\n",
       "0             34.180895"
      ]
     },
     "execution_count": 46,
     "metadata": {},
     "output_type": "execute_result"
    }
   ],
   "source": [
    "my_query = \"\"\"\n",
    "SELECT AVG(winner_avrspeed)\n",
    "FROM race;\n",
    "\"\"\"\n",
    "df = pd.read_sql_query(my_query, con)\n",
    "df\n",
    "\n",
    "# SELECT start_city, COUNT(*) FROM race GROUP BY start_city ORDER BY COUNT(*) DESC;"
   ]
  },
  {
   "cell_type": "markdown",
   "metadata": {},
   "source": [
    "## Interview the data !\n",
    "\n",
    "## Only query using the SQL query, not pandas (Units are KM and KM/hr)\n",
    "\n",
    "> How many Tours are listed? \n",
    "\n",
    "> What's the most recent year listed? (and so how many years haven't had Tours?)\n",
    "\n",
    "> Display 'year', 'length' and 'stages' cos only, and just the first 10 rows\n",
    "\n",
    "> How many cities have been a start city?\n",
    "\n",
    "> How many races had 23 stages?\n",
    "\n",
    "> Find all races with 28 finishers or fewer\n",
    "\n",
    "> Display all races that either had fewer than 80 riders or fewer than 30 finishers\n",
    "\n",
    "> What is the average number of stages? \n",
    "\n",
    "> What is the average number of riders? and of finishers?\n",
    "\n",
    "> Which was the longest Tour in length(km)?\n",
    "\n",
    "> How many starts in Paris since 2000?\n",
    "\n",
    "> How many non-Paris starts since 2000 with more than 160 finishers?\n",
    "\n",
    "> Find all start cities that aren't Paris or Lyon\n",
    "\n",
    "> What was the 7th longest race?\n",
    "\n",
    "> How many finishing riders have there been ever?\n",
    "\n",
    "> Which two start cities contain the string 'uss'?\n",
    "\n",
    "> Find all races with the number of stages as either 21, 22, 23 or 24\n",
    "\n",
    "> Which years had between 52 and 60 finishers?\n",
    "\n",
    "> What 13 cities have had more than one start?\n",
    "\n",
    "> What is the winner's average speed since 1903?\n",
    "\n"
   ]
  },
  {
   "cell_type": "code",
   "execution_count": 47,
   "metadata": {},
   "outputs": [],
   "source": [
    "# close the connection\n",
    "\n",
    "con.close()"
   ]
  },
  {
   "cell_type": "code",
   "execution_count": null,
   "metadata": {},
   "outputs": [],
   "source": []
  }
 ],
 "metadata": {
  "kernelspec": {
   "display_name": "Python 3",
   "language": "python",
   "name": "python3"
  },
  "language_info": {
   "codemirror_mode": {
    "name": "ipython",
    "version": 3
   },
   "file_extension": ".py",
   "mimetype": "text/x-python",
   "name": "python",
   "nbconvert_exporter": "python",
   "pygments_lexer": "ipython3",
   "version": "3.7.9"
  }
 },
 "nbformat": 4,
 "nbformat_minor": 2
}
